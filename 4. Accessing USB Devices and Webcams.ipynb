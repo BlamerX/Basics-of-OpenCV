{
 "cells": [
  {
   "cell_type": "markdown",
   "id": "575aacf3",
   "metadata": {},
   "source": [
    "# 1. Import Dependencies"
   ]
  },
  {
   "cell_type": "code",
   "execution_count": 1,
   "id": "14f235f4",
   "metadata": {},
   "outputs": [],
   "source": [
    "# Import opencv for computer vision stuff\n",
    "import cv2\n",
    "# Import matplotlib so we can visualize an image\n",
    "from matplotlib import pyplot as plt"
   ]
  },
  {
   "cell_type": "markdown",
   "id": "c1840861",
   "metadata": {},
   "source": [
    "# 2. Connecting to Your Webcam"
   ]
  },
  {
   "cell_type": "code",
   "execution_count": 2,
   "id": "779611c7",
   "metadata": {},
   "outputs": [],
   "source": [
    "# Connect to capture device\n",
    "cap = cv2.VideoCapture(0)"
   ]
  },
  {
   "cell_type": "code",
   "execution_count": 3,
   "id": "e527d539",
   "metadata": {},
   "outputs": [],
   "source": [
    "# Get a frame from the capture device\n",
    "ret, frame = cap.read()"
   ]
  },
  {
   "cell_type": "code",
   "execution_count": 4,
   "id": "d9df5cac",
   "metadata": {},
   "outputs": [
    {
     "name": "stdout",
     "output_type": "stream",
     "text": [
      "True\n"
     ]
    }
   ],
   "source": [
    "print(ret)"
   ]
  },
  {
   "cell_type": "code",
   "execution_count": 11,
   "id": "2d4ece88",
   "metadata": {
    "scrolled": true
   },
   "outputs": [
    {
     "name": "stdout",
     "output_type": "stream",
     "text": [
      "[[[ 84  79  67]\n",
      "  [ 87  83  72]\n",
      "  [ 90  87  76]\n",
      "  ...\n",
      "  [164 154 147]\n",
      "  [166 155 147]\n",
      "  [169 157 149]]\n",
      "\n",
      " [[ 76  72  60]\n",
      "  [ 80  77  66]\n",
      "  [ 86  83  72]\n",
      "  ...\n",
      "  [164 154 147]\n",
      "  [166 155 148]\n",
      "  [168 156 148]]\n",
      "\n",
      " [[ 67  65  54]\n",
      "  [ 73  70  59]\n",
      "  [ 80  77  67]\n",
      "  ...\n",
      "  [165 155 148]\n",
      "  [166 155 148]\n",
      "  [168 156 149]]\n",
      "\n",
      " ...\n",
      "\n",
      " [[111 148 154]\n",
      "  [114 152 157]\n",
      "  [114 154 159]\n",
      "  ...\n",
      "  [147 195 202]\n",
      "  [148 196 204]\n",
      "  [151 200 208]]\n",
      "\n",
      " [[114 148 154]\n",
      "  [114 149 155]\n",
      "  [114 152 157]\n",
      "  ...\n",
      "  [144 195 201]\n",
      "  [143 194 200]\n",
      "  [145 197 203]]\n",
      "\n",
      " [[118 151 157]\n",
      "  [117 151 157]\n",
      "  [116 152 158]\n",
      "  ...\n",
      "  [143 194 200]\n",
      "  [139 191 197]\n",
      "  [140 194 199]]]\n"
     ]
    }
   ],
   "source": [
    "print(frame)"
   ]
  },
  {
   "cell_type": "code",
   "execution_count": null,
   "id": "268c0ede",
   "metadata": {},
   "outputs": [],
   "source": []
  },
  {
   "cell_type": "code",
   "execution_count": 7,
   "id": "d09b761f",
   "metadata": {},
   "outputs": [],
   "source": [
    "# Releases capture back into the wild \n",
    "cap.release()"
   ]
  },
  {
   "cell_type": "code",
   "execution_count": 8,
   "id": "8bc02523",
   "metadata": {},
   "outputs": [],
   "source": [
    "def take_photo(): \n",
    "    cap = cv2.VideoCapture(0)\n",
    "    ret, frame = cap.read()\n",
    "    cv2.imwrite('webcamphoto.jpg', frame)\n",
    "    cap.release()"
   ]
  },
  {
   "cell_type": "code",
   "execution_count": 9,
   "id": "72cacad8",
   "metadata": {},
   "outputs": [],
   "source": [
    "take_photo()"
   ]
  },
  {
   "cell_type": "markdown",
   "id": "cc7c946f",
   "metadata": {},
   "source": [
    "# 3. Rendering in Real Time"
   ]
  },
  {
   "cell_type": "code",
   "execution_count": 10,
   "id": "f4e3db83",
   "metadata": {},
   "outputs": [],
   "source": [
    "# Connect to webcam\n",
    "cap = cv2.VideoCapture(0)\n",
    "# Loop through every frame until we close our webcam\n",
    "while cap.isOpened(): \n",
    "    ret, frame = cap.read()\n",
    "    \n",
    "    # Show image \n",
    "    cv2.imshow('Webcam', frame)\n",
    "    \n",
    "    # Checks whether q has been hit and stops the loop\n",
    "    if cv2.waitKey(1) & 0xFF == ord('q'): \n",
    "        break\n",
    "\n",
    "# Releases the webcam\n",
    "cap.release()\n",
    "# Closes the frame\n",
    "cv2.destroyAllWindows()"
   ]
  },
  {
   "cell_type": "code",
   "execution_count": null,
   "id": "90c6aae2",
   "metadata": {},
   "outputs": [],
   "source": []
  }
 ],
 "metadata": {
  "kernelspec": {
   "display_name": "OpenCVBasics",
   "language": "python",
   "name": "opencvbasics"
  },
  "language_info": {
   "codemirror_mode": {
    "name": "ipython",
    "version": 3
   },
   "file_extension": ".py",
   "mimetype": "text/x-python",
   "name": "python",
   "nbconvert_exporter": "python",
   "pygments_lexer": "ipython3",
   "version": "3.9.7"
  }
 },
 "nbformat": 4,
 "nbformat_minor": 5
}
