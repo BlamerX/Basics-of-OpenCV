{
 "cells": [
  {
   "cell_type": "markdown",
   "id": "46cad2a0",
   "metadata": {},
   "source": [
    "# 1. Installing OpenCV"
   ]
  },
  {
   "cell_type": "code",
   "execution_count": 1,
   "id": "d4050934",
   "metadata": {},
   "outputs": [
    {
     "name": "stdout",
     "output_type": "stream",
     "text": [
      "Requirement already satisfied: opencv-python in c:\\users\\adars\\anaconda3\\lib\\site-packages (4.5.5.64)\n",
      "Requirement already satisfied: numpy>=1.14.5 in c:\\users\\adars\\anaconda3\\lib\\site-packages (from opencv-python) (1.22.3)\n"
     ]
    }
   ],
   "source": [
    "!pip install opencv-python"
   ]
  },
  {
   "cell_type": "code",
   "execution_count": 2,
   "id": "aea10771",
   "metadata": {
    "scrolled": true
   },
   "outputs": [
    {
     "name": "stdout",
     "output_type": "stream",
     "text": [
      "Package                       Version\n",
      "----------------------------- -------------------\n",
      "absl-py                       1.0.0\n",
      "anaconda-client               1.9.0\n",
      "anaconda-navigator            2.1.4\n",
      "anyio                         3.5.0\n",
      "argon2-cffi                   21.3.0\n",
      "argon2-cffi-bindings          21.2.0\n",
      "asttokens                     2.0.5\n",
      "astunparse                    1.6.3\n",
      "attrs                         21.4.0\n",
      "Babel                         2.9.1\n",
      "backcall                      0.2.0\n",
      "backports.functools-lru-cache 1.6.4\n",
      "backports.tempfile            1.0\n",
      "backports.weakref             1.0.post1\n",
      "beautifulsoup4                4.10.0\n",
      "bleach                        4.1.0\n",
      "brotlipy                      0.7.0\n",
      "cachetools                    5.0.0\n",
      "certifi                       2021.10.8\n",
      "cffi                          1.15.0\n",
      "chardet                       4.0.0\n",
      "charset-normalizer            2.0.4\n",
      "click                         8.0.4\n",
      "clyent                        1.2.2\n",
      "colorama                      0.4.4\n",
      "conda                         4.12.0\n",
      "conda-build                   3.21.6\n",
      "conda-content-trust           0+unknown\n",
      "conda-package-handling        1.7.3\n",
      "conda-repo-cli                1.0.4\n",
      "conda-token                   0.3.0\n",
      "conda-verify                  3.4.2\n",
      "cryptography                  3.4.8\n",
      "debugpy                       1.5.1\n",
      "decorator                     5.1.1\n",
      "defusedxml                    0.7.1\n",
      "entrypoints                   0.3\n",
      "executing                     0.8.3\n",
      "filelock                      3.6.0\n",
      "flatbuffers                   2.0\n",
      "future                        0.18.2\n",
      "gast                          0.5.3\n",
      "glob2                         0.7\n",
      "google-auth                   2.6.4\n",
      "google-auth-oauthlib          0.4.6\n",
      "google-pasta                  0.2.0\n",
      "grpcio                        1.44.0\n",
      "idna                          3.3\n",
      "importlib-metadata            4.8.2\n",
      "ipykernel                     6.9.1\n",
      "ipython                       8.1.1\n",
      "ipython-genutils              0.2.0\n",
      "ipywidgets                    7.6.5\n",
      "jedi                          0.18.1\n",
      "Jinja2                        2.11.3\n",
      "json5                         0.9.6\n",
      "jsonschema                    3.2.0\n",
      "jupyter-client                7.1.2\n",
      "jupyter-core                  4.9.2\n",
      "jupyter-server                1.13.5\n",
      "jupyterlab                    3.3.2\n",
      "jupyterlab-pygments           0.1.2\n",
      "jupyterlab-server             2.10.3\n",
      "jupyterlab-widgets            1.0.0\n",
      "keras                         2.8.0\n",
      "Keras-Preprocessing           1.1.2\n",
      "libarchive-c                  2.9\n",
      "libclang                      13.0.0\n",
      "Markdown                      3.3.6\n",
      "MarkupSafe                    2.0.1\n",
      "matplotlib-inline             0.1.2\n",
      "menuinst                      1.4.18\n",
      "mistune                       0.8.4\n",
      "navigator-updater             0.2.1\n",
      "nbclassic                     0.3.5\n",
      "nbclient                      0.5.11\n",
      "nbconvert                     6.1.0\n",
      "nbformat                      5.1.3\n",
      "nest-asyncio                  1.5.1\n",
      "notebook                      6.4.8\n",
      "numpy                         1.22.3\n",
      "oauthlib                      3.2.0\n",
      "opencv-python                 4.5.5.64\n",
      "opt-einsum                    3.3.0\n",
      "packaging                     21.3\n",
      "pandocfilters                 1.5.0\n",
      "parso                         0.8.3\n",
      "pickleshare                   0.7.5\n",
      "Pillow                        9.0.1\n",
      "pip                           22.0.4\n",
      "pkginfo                       1.8.2\n",
      "prometheus-client             0.13.1\n",
      "prompt-toolkit                3.0.20\n",
      "protobuf                      3.20.0\n",
      "psutil                        5.8.0\n",
      "pure-eval                     0.2.2\n",
      "pyasn1                        0.4.8\n",
      "pyasn1-modules                0.2.8\n",
      "pycosat                       0.6.3\n",
      "pycparser                     2.21\n",
      "Pygments                      2.11.2\n",
      "PyJWT                         2.1.0\n",
      "pyOpenSSL                     21.0.0\n",
      "pyparsing                     3.0.4\n",
      "pyrsistent                    0.18.0\n",
      "PySocks                       1.7.1\n",
      "python-dateutil               2.8.2\n",
      "pytz                          2021.3\n",
      "pywin32                       302\n",
      "pywinpty                      2.0.2\n",
      "PyYAML                        6.0\n",
      "pyzmq                         22.3.0\n",
      "qtconsole                     5.3.0\n",
      "QtPy                          2.0.1\n",
      "requests                      2.27.1\n",
      "requests-oauthlib             1.3.1\n",
      "rsa                           4.8\n",
      "ruamel-yaml-conda             0.15.100\n",
      "Send2Trash                    1.8.0\n",
      "setuptools                    58.0.4\n",
      "sip                           4.19.13\n",
      "six                           1.16.0\n",
      "sniffio                       1.2.0\n",
      "soupsieve                     2.3.1\n",
      "stack-data                    0.2.0\n",
      "tensorboard                   2.8.0\n",
      "tensorboard-data-server       0.6.1\n",
      "tensorboard-plugin-wit        1.8.1\n",
      "tensorflow                    2.8.0\n",
      "tensorflow-io-gcs-filesystem  0.24.0\n",
      "termcolor                     1.1.0\n",
      "terminado                     0.13.1\n",
      "testpath                      0.5.0\n",
      "tf-estimator-nightly          2.8.0.dev2021122109\n",
      "tornado                       6.1\n",
      "tqdm                          4.63.0\n",
      "traitlets                     5.1.1\n",
      "typing_extensions             4.1.1\n",
      "ujson                         4.0.2\n",
      "urllib3                       1.26.8\n",
      "wcwidth                       0.2.5\n",
      "webencodings                  0.5.1\n",
      "websocket-client              0.58.0\n",
      "wheel                         0.37.1\n",
      "widgetsnbextension            3.5.2\n",
      "win-inet-pton                 1.1.0\n",
      "wincertstore                  0.2\n",
      "zipp                          3.7.0\n"
     ]
    }
   ],
   "source": [
    "!pip list"
   ]
  },
  {
   "cell_type": "code",
   "execution_count": 3,
   "id": "37587b86",
   "metadata": {},
   "outputs": [],
   "source": [
    "import cv2"
   ]
  },
  {
   "cell_type": "markdown",
   "id": "7ebcae60",
   "metadata": {},
   "source": [
    "\n",
    "\n",
    "]]\n",
    "# 2. Test samples\n",
    "\n",
    "In order to do this we can go to the official weblite and download the latest document [OpenCV Samples](https://opencv.org/releases/) and click the sources.\n",
    "\n",
    "Add that to this same folder in which the jupyter notebook is present."
   ]
  },
  {
   "cell_type": "markdown",
   "id": "c95f589a",
   "metadata": {},
   "source": [
    "Keymap :\n",
    "\n",
    "    a - show histogram for color image in curve mode \n",
    "\n",
    "    b - show histogram in bin mode \n",
    "\n",
    "    c - show equalized histogram (always in bin mode) \n",
    "\n",
    "    d - show histogram for gray image in curve mode \n",
    "\n",
    "    e - show histogram for a normalized image in curve mode \n",
    "\n",
    "    Esc - exit "
   ]
  },
  {
   "cell_type": "code",
   "execution_count": 4,
   "id": "cc445e28",
   "metadata": {
    "scrolled": true
   },
   "outputs": [
    {
     "name": "stdout",
     "output_type": "stream",
     "text": [
      " This is a sample for histogram plotting for RGB images and grayscale images for better understanding of colour distribution\n",
      "\n",
      "Benefit : Learn how to draw histogram of images\n",
      "          Get familier with cv.calcHist, cv.equalizeHist,cv.normalize and some drawing functions\n",
      "\n",
      "Level : Beginner or Intermediate\n",
      "\n",
      "Functions : 1) hist_curve : returns histogram of an image drawn as curves\n",
      "            2) hist_lines : return histogram of an image drawn as bins ( only for grayscale images )\n",
      "\n",
      "Usage : python hist.py <image_file>\n",
      "\n",
      "Abid Rahman 3/14/12 debug Gary Bradski\n",
      "\n",
      "usage : python hist.py <image_file>\n",
      " Histogram plotting \n",
      "\n",
      "    Keymap :\n",
      "\n",
      "    a - show histogram for color image in curve mode \n",
      "\n",
      "    b - show histogram in bin mode \n",
      "\n",
      "    c - show equalized histogram (always in bin mode) \n",
      "\n",
      "    d - show histogram for gray image in curve mode \n",
      "\n",
      "    e - show histogram for a normalized image in curve mode \n",
      "\n",
      "    Esc - exit \n",
      "\n",
      "    \n",
      "a\n",
      "a\n",
      "b\n",
      "hist_lines applicable only for grayscale images\n",
      "c\n",
      "d\n",
      "e\n",
      "a\n",
      "b\n",
      "hist_lines applicable only for grayscale images\n",
      "a\n",
      "b\n",
      "hist_lines applicable only for grayscale images\n",
      "a\n",
      "b\n",
      "hist_lines applicable only for grayscale images\n",
      "a\n",
      "b\n",
      "hist_lines applicable only for grayscale images\n",
      "a\n",
      "b\n",
      "hist_lines applicable only for grayscale images\n",
      "a\n",
      "ESC\n",
      "Done\n"
     ]
    },
    {
     "name": "stderr",
     "output_type": "stream",
     "text": [
      "[ WARN:0@0.017] global D:\\a\\opencv-python\\opencv-python\\opencv\\modules\\core\\src\\utils\\samples.cpp (61) cv::samples::findFile cv::samples::findFile('lena.jpg') => 'C:\\Private Files\\OpenCV\\OpenCV Basics\\opencv-4.5.5\\samples\\python/../..\\samples/data\\lena.jpg'\n"
     ]
    }
   ],
   "source": [
    "# Histogram sample\n",
    "!cd opencv-4.5.5\\samples\\python & python hist.py"
   ]
  },
  {
   "cell_type": "code",
   "execution_count": 9,
   "id": "705e8fb4",
   "metadata": {
    "scrolled": true
   },
   "outputs": [
    {
     "name": "stdout",
     "output_type": "stream",
     "text": [
      "\n",
      "example to show optical flow\n",
      "\n",
      "USAGE: opt_flow.py [<video_source>]\n",
      "\n",
      "Keys:\n",
      " 1 - toggle HSV flow visualization\n",
      " 2 - toggle glitch\n",
      "\n",
      "Keys:\n",
      "    ESC    - exit\n",
      "\n",
      "HSV flow visualization is on\n",
      "glitch is on\n",
      "glitch is off\n",
      "HSV flow visualization is off\n",
      "Done\n"
     ]
    },
    {
     "name": "stderr",
     "output_type": "stream",
     "text": [
      "[ WARN:1@23.530] global D:\\a\\opencv-python\\opencv-python\\opencv\\modules\\videoio\\src\\cap_msmf.cpp (539) `anonymous-namespace'::SourceReaderCB::~SourceReaderCB terminating async callback\n"
     ]
    }
   ],
   "source": [
    "# Optical flow sample\n",
    "!cd opencv-4.5.5\\samples\\python & python opt_flow.py 0"
   ]
  },
  {
   "cell_type": "markdown",
   "id": "d190370d",
   "metadata": {},
   "source": []
  },
  {
   "cell_type": "code",
   "execution_count": null,
   "id": "ee26bfa8",
   "metadata": {},
   "outputs": [],
   "source": []
  }
 ],
 "metadata": {
  "kernelspec": {
   "display_name": "OpenCVBasics",
   "language": "python",
   "name": "opencvbasics"
  },
  "language_info": {
   "codemirror_mode": {
    "name": "ipython",
    "version": 3
   },
   "file_extension": ".py",
   "mimetype": "text/x-python",
   "name": "python",
   "nbconvert_exporter": "python",
   "pygments_lexer": "ipython3",
   "version": "3.9.7"
  }
 },
 "nbformat": 4,
 "nbformat_minor": 5
}
