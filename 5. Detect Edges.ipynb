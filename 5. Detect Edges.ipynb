{
 "cells": [
  {
   "cell_type": "markdown",
   "id": "2648deb1",
   "metadata": {},
   "source": [
    "# 1. Import Dependencies"
   ]
  },
  {
   "cell_type": "code",
   "execution_count": 1,
   "id": "86e564be",
   "metadata": {},
   "outputs": [],
   "source": [
    "import cv2\n",
    "import os"
   ]
  },
  {
   "cell_type": "markdown",
   "id": "3b8ce559",
   "metadata": {},
   "source": [
    "# 2. Load Image"
   ]
  },
  {
   "cell_type": "code",
   "execution_count": 2,
   "id": "7921022c",
   "metadata": {},
   "outputs": [],
   "source": [
    "IMG_PATH = os.path.join('data','images', 'bike.jpg')"
   ]
  },
  {
   "cell_type": "code",
   "execution_count": 3,
   "id": "01ae7e19",
   "metadata": {},
   "outputs": [],
   "source": [
    "img = cv2.imread(IMG_PATH)"
   ]
  },
  {
   "cell_type": "code",
   "execution_count": 4,
   "id": "5ca9fc97",
   "metadata": {},
   "outputs": [],
   "source": [
    "gray = cv2.cvtColor(img, cv2.COLOR_BGR2GRAY)\n",
    "blurred = cv2.GaussianBlur(img, (3,3),0)"
   ]
  },
  {
   "cell_type": "code",
   "execution_count": 5,
   "id": "9389d4e2",
   "metadata": {},
   "outputs": [],
   "source": [
    "canny = cv2.Canny(blurred, threshold1=180, threshold2=200)"
   ]
  },
  {
   "cell_type": "code",
   "execution_count": 6,
   "id": "c5ad8646",
   "metadata": {},
   "outputs": [],
   "source": [
    "resized = cv2.resize(canny, (int(2190/2), int(2738/2)))\n",
    "cv2.imshow(\"Canny\", resized)\n",
    "cv2.waitKey(0)\n",
    "cv2.destroyAllWindows()"
   ]
  },
  {
   "cell_type": "code",
   "execution_count": 7,
   "id": "ca0945cd",
   "metadata": {},
   "outputs": [],
   "source": [
    "import numpy as np"
   ]
  },
  {
   "cell_type": "code",
   "execution_count": null,
   "id": "d330c280",
   "metadata": {},
   "outputs": [],
   "source": [
    "output_path=os.path.join('data','output','edges.csv')"
   ]
  },
  {
   "cell_type": "code",
   "execution_count": 8,
   "id": "a40d7e37",
   "metadata": {},
   "outputs": [],
   "source": [
    "np.savetxt(output_path,canny, delimiter=\",\")"
   ]
  },
  {
   "cell_type": "code",
   "execution_count": null,
   "id": "244d6809",
   "metadata": {},
   "outputs": [],
   "source": [
    "output_path=os.path.join('data','output','edges.jpg')"
   ]
  },
  {
   "cell_type": "code",
   "execution_count": 9,
   "id": "968b457d",
   "metadata": {},
   "outputs": [
    {
     "data": {
      "text/plain": [
       "True"
      ]
     },
     "execution_count": 9,
     "metadata": {},
     "output_type": "execute_result"
    }
   ],
   "source": [
    "cv2.imwrite(output_path, resized)\n"
   ]
  },
  {
   "cell_type": "code",
   "execution_count": null,
   "id": "985e681a",
   "metadata": {},
   "outputs": [],
   "source": []
  }
 ],
 "metadata": {
  "kernelspec": {
   "display_name": "OpenCVBasics",
   "language": "python",
   "name": "opencvbasics"
  },
  "language_info": {
   "codemirror_mode": {
    "name": "ipython",
    "version": 3
   },
   "file_extension": ".py",
   "mimetype": "text/x-python",
   "name": "python",
   "nbconvert_exporter": "python",
   "pygments_lexer": "ipython3",
   "version": "3.9.7"
  }
 },
 "nbformat": 4,
 "nbformat_minor": 5
}
